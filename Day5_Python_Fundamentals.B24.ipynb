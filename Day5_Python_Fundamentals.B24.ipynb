{
 "cells": [
  {
   "cell_type": "code",
   "execution_count": 3,
   "metadata": {},
   "outputs": [],
   "source": [
    "my_team=[\"rocky\",\"suresh\",\"vinay\",\"venkatesh\",\"varma\",\"pavan\",\"avinash\",\"bhaskar\"]"
   ]
  },
  {
   "cell_type": "code",
   "execution_count": 4,
   "metadata": {},
   "outputs": [
    {
     "name": "stdout",
     "output_type": "stream",
     "text": [
      "['rocky', 'suresh', 'vinay', 'venkatesh', 'varma', 'pavan', 'avinash', 'bhaskar']\n"
     ]
    }
   ],
   "source": [
    "print(my_team)"
   ]
  },
  {
   "cell_type": "code",
   "execution_count": 9,
   "metadata": {},
   "outputs": [
    {
     "name": "stdout",
     "output_type": "stream",
     "text": [
      "you need to improve,['rocky', 'suresh', 'vinay', 'venkatesh', 'varma', 'pavan', 'avinash', 'bhaskar']\n",
      "you need to improve,['rocky', 'suresh', 'vinay', 'venkatesh', 'varma', 'pavan', 'avinash', 'bhaskar']\n",
      "you need to improve,['rocky', 'suresh', 'vinay', 'venkatesh', 'varma', 'pavan', 'avinash', 'bhaskar']\n",
      "you need to improve,['rocky', 'suresh', 'vinay', 'venkatesh', 'varma', 'pavan', 'avinash', 'bhaskar']\n",
      "you need to improve,['rocky', 'suresh', 'vinay', 'venkatesh', 'varma', 'pavan', 'avinash', 'bhaskar']\n",
      "you need to improve,['rocky', 'suresh', 'vinay', 'venkatesh', 'varma', 'pavan', 'avinash', 'bhaskar']\n",
      "you need to improve,['rocky', 'suresh', 'vinay', 'venkatesh', 'varma', 'pavan', 'avinash', 'bhaskar']\n",
      "you need to improve,['rocky', 'suresh', 'vinay', 'venkatesh', 'varma', 'pavan', 'avinash', 'bhaskar']\n"
     ]
    }
   ],
   "source": [
    "for x in my_team:\n",
    "    print(f\"you need to improve,{my_team}\")"
   ]
  },
  {
   "cell_type": "code",
   "execution_count": 11,
   "metadata": {},
   "outputs": [
    {
     "name": "stdout",
     "output_type": "stream",
     "text": [
      "you need to improve,rocky\n",
      "you need to improve,suresh\n",
      "you need to improve,vinay\n",
      "you need to improve,venkatesh\n",
      "you need to improve,varma\n",
      "you need to improve,pavan\n",
      "you need to improve,avinash\n",
      "you need to improve,bhaskar\n"
     ]
    }
   ],
   "source": [
    "for x in my_team:\n",
    "    print(f\"you need to improve,{x}\")"
   ]
  },
  {
   "cell_type": "code",
   "execution_count": 14,
   "metadata": {},
   "outputs": [
    {
     "name": "stdout",
     "output_type": "stream",
     "text": [
      "you need to improve, rocky\n",
      "Don't forget to submit your project on time, rocky\n",
      "you need to improve, suresh\n",
      "Don't forget to submit your project on time, suresh\n",
      "you need to improve, vinay\n",
      "Don't forget to submit your project on time, vinay\n",
      "you need to improve, venkatesh\n",
      "Don't forget to submit your project on time, venkatesh\n",
      "you need to improve, varma\n",
      "Don't forget to submit your project on time, varma\n",
      "you need to improve, pavan\n",
      "Don't forget to submit your project on time, pavan\n",
      "you need to improve, avinash\n",
      "Don't forget to submit your project on time, avinash\n",
      "you need to improve, bhaskar\n",
      "Don't forget to submit your project on time, bhaskar\n"
     ]
    }
   ],
   "source": [
    "for y in my_team:\n",
    "    print(f\"you need to improve, {y}\")\n",
    "    print(f\"Don't forget to submit your project on time, {y}\")"
   ]
  },
  {
   "cell_type": "code",
   "execution_count": 19,
   "metadata": {},
   "outputs": [
    {
     "name": "stdout",
     "output_type": "stream",
     "text": [
      "You need to improve, Rocky\n",
      "Don't forget to submit your project on time, Rocky.\n",
      " \n",
      "You need to improve, Suresh\n",
      "Don't forget to submit your project on time, Suresh.\n",
      " \n",
      "You need to improve, Vinay\n",
      "Don't forget to submit your project on time, Vinay.\n",
      " \n",
      "You need to improve, Venkatesh\n",
      "Don't forget to submit your project on time, Venkatesh.\n",
      " \n",
      "You need to improve, Varma\n",
      "Don't forget to submit your project on time, Varma.\n",
      " \n",
      "You need to improve, Pavan\n",
      "Don't forget to submit your project on time, Pavan.\n",
      " \n",
      "You need to improve, Avinash\n",
      "Don't forget to submit your project on time, Avinash.\n",
      " \n",
      "You need to improve, Bhaskar\n",
      "Don't forget to submit your project on time, Bhaskar.\n",
      " \n"
     ]
    }
   ],
   "source": [
    "for y in my_team:\n",
    "    print(f\"You need to improve, {y.title()}\")\n",
    "    print(f\"Don't forget to submit your project on time, {y.title()}.\\n \")     "
   ]
  },
  {
   "cell_type": "code",
   "execution_count": 21,
   "metadata": {},
   "outputs": [
    {
     "name": "stdout",
     "output_type": "stream",
     "text": [
      "You need to improve, Rocky.\n",
      "Don't forget submit your project on time, Rocky.\n",
      "\n",
      "You need to improve, Suresh.\n",
      "Don't forget submit your project on time, Suresh.\n",
      "\n",
      "You need to improve, Vinay.\n",
      "Don't forget submit your project on time, Vinay.\n",
      "\n",
      "You need to improve, Venkatesh.\n",
      "Don't forget submit your project on time, Venkatesh.\n",
      "\n",
      "You need to improve, Varma.\n",
      "Don't forget submit your project on time, Varma.\n",
      "\n",
      "You need to improve, Pavan.\n",
      "Don't forget submit your project on time, Pavan.\n",
      "\n",
      "You need to improve, Avinash.\n",
      "Don't forget submit your project on time, Avinash.\n",
      "\n",
      "You need to improve, Bhaskar.\n",
      "Don't forget submit your project on time, Bhaskar.\n",
      "\n",
      "THANK YOU ALL\n"
     ]
    }
   ],
   "source": [
    "for z in my_team:\n",
    "    print(f\"You need to improve, {z.title()}.\")\n",
    "    print(f\"Don't forget submit your project on time, {z.title()}.\\n\")\n",
    "    \n",
    "    \n",
    "print(\"THANK YOU ALL\")     "
   ]
  },
  {
   "cell_type": "code",
   "execution_count": null,
   "metadata": {},
   "outputs": [],
   "source": []
  }
 ],
 "metadata": {
  "kernelspec": {
   "display_name": "Python 3",
   "language": "python",
   "name": "python3"
  },
  "language_info": {
   "codemirror_mode": {
    "name": "ipython",
    "version": 3
   },
   "file_extension": ".py",
   "mimetype": "text/x-python",
   "name": "python",
   "nbconvert_exporter": "python",
   "pygments_lexer": "ipython3",
   "version": "3.7.4"
  }
 },
 "nbformat": 4,
 "nbformat_minor": 2
}
